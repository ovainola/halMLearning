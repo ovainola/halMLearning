{
 "cells": [
  {
   "cell_type": "code",
   "execution_count": 1,
   "metadata": {
    "collapsed": false
   },
   "outputs": [],
   "source": [
    "import glob\n",
    "import numpy as np\n",
    "from functools import reduce\n",
    "\n",
    "files = glob.glob(\"./data/*\")"
   ]
  },
  {
   "cell_type": "code",
   "execution_count": 2,
   "metadata": {
    "collapsed": true
   },
   "outputs": [],
   "source": [
    "\n",
    "f = open(\"./data/ar1481154549-717862724.hlt\", \"r\")\n",
    "lines = f.readlines()\n",
    "f.close()"
   ]
  },
  {
   "cell_type": "code",
   "execution_count": 3,
   "metadata": {
    "collapsed": false
   },
   "outputs": [],
   "source": [
    "m = eval(lines[0])"
   ]
  },
  {
   "cell_type": "code",
   "execution_count": 4,
   "metadata": {
    "collapsed": false
   },
   "outputs": [
    {
     "data": {
      "text/plain": [
       "['num_players',\n",
       " 'width',\n",
       " 'player_names',\n",
       " 'productions',\n",
       " 'version',\n",
       " 'num_frames',\n",
       " 'frames',\n",
       " 'moves',\n",
       " 'height']"
      ]
     },
     "execution_count": 4,
     "metadata": {},
     "output_type": "execute_result"
    }
   ],
   "source": [
    "m.keys()"
   ]
  },
  {
   "cell_type": "code",
   "execution_count": 5,
   "metadata": {
    "collapsed": false
   },
   "outputs": [],
   "source": [
    "moves = np.asarray(m[\"moves\"])"
   ]
  },
  {
   "cell_type": "code",
   "execution_count": 6,
   "metadata": {
    "collapsed": false
   },
   "outputs": [
    {
     "data": {
      "text/plain": [
       "311"
      ]
     },
     "execution_count": 6,
     "metadata": {},
     "output_type": "execute_result"
    }
   ],
   "source": [
    "frames = np.asarray(m['frames'])\n",
    "len(frames)"
   ]
  },
  {
   "cell_type": "code",
   "execution_count": 7,
   "metadata": {
    "collapsed": false
   },
   "outputs": [],
   "source": [
    "import h5py"
   ]
  },
  {
   "cell_type": "code",
   "execution_count": 8,
   "metadata": {
    "collapsed": false
   },
   "outputs": [],
   "source": [
    "ids = np.array(map(lambda x: map(lambda y: y[0], x), frames[-5]))\n",
    "power = np.array(map(lambda x: map(lambda y: y[1], x), frames[-5]))\n",
    "prods = np.array(m[\"productions\"])"
   ]
  },
  {
   "cell_type": "code",
   "execution_count": 9,
   "metadata": {
    "collapsed": false
   },
   "outputs": [
    {
     "data": {
      "text/plain": [
       "1"
      ]
     },
     "execution_count": 9,
     "metadata": {},
     "output_type": "execute_result"
    }
   ],
   "source": [
    "ua,uind=np.unique(ids,return_inverse=True)\n",
    "count=np.bincount(uind)\n",
    "max_arg_id = np.argmax(count)\n",
    "_id = ua[max_arg_id]\n",
    "_id"
   ]
  },
  {
   "cell_type": "code",
   "execution_count": 10,
   "metadata": {
    "collapsed": true
   },
   "outputs": [],
   "source": [
    "xx = np.zeros((33, 33), dtype=np.int64)\n",
    "yy = np.zeros((33, 33), dtype=np.int64)\n",
    "\n",
    "_x = np.zeros((11, 11), dtype=np.int64)\n",
    "_y = np.zeros((11, 11), dtype=np.int64)\n",
    "\n",
    "\n",
    "h = 33\n",
    "w = 33\n",
    "\n",
    "for i in np.arange(h):\n",
    "    for j in np.arange(w):\n",
    "        xx[i, j] = j\n",
    "        yy[i, j] = i\n",
    "        \n",
    "for ii, i in enumerate(range(-5, 6)):\n",
    "    for jj, j in enumerate(range(-5, 6)):\n",
    "        _x[ii, jj] = i\n",
    "        _y[ii, jj] = j"
   ]
  },
  {
   "cell_type": "code",
   "execution_count": 13,
   "metadata": {
    "collapsed": false
   },
   "outputs": [
    {
     "name": "stdout",
     "output_type": "stream",
     "text": [
      "(0, ' ', [0], ' ', [0], ' ', [0])\n",
      "(1, ' ', [1], ' ', [0], ' ', [0])\n",
      "(2, ' ', [3], ' ', [0], ' ', [0])\n",
      "(3, ' ', [5], ' ', [0], ' ', [0])\n",
      "(4, ' ', [8], ' ', [0], ' ', [0])\n",
      "(5, ' ', [11], ' ', [0], ' ', [0])\n",
      "(6, ' ', [14], ' ', [0], ' ', [0])\n",
      "(7, ' ', [17], ' ', [0], ' ', [0])\n",
      "(8, ' ', [20], ' ', [0], ' ', [0])\n",
      "(9, ' ', [23], ' ', [0], ' ', [0])\n",
      "(10, ' ', [26], ' ', [0], ' ', [0])\n",
      "(11, ' ', [30], ' ', [0], ' ', [0])\n",
      "(12, ' ', [34], ' ', [0], ' ', [0])\n",
      "(13, ' ', [35], ' ', [0], ' ', [0])\n",
      "(14, ' ', [36], ' ', [0], ' ', [0])\n",
      "(15, ' ', [37], ' ', [0], ' ', [0])\n",
      "(16, ' ', [38], ' ', [0], ' ', [0])\n",
      "(17, ' ', [42], ' ', [0], ' ', [0])\n",
      "(18, ' ', [43], ' ', [0], ' ', [0])\n",
      "(19, ' ', [44], ' ', [0], ' ', [0])\n",
      "(20, ' ', [45], ' ', [0], ' ', [0])\n",
      "(21, ' ', [50], ' ', [0], ' ', [0])\n",
      "(22, ' ', [57], ' ', [0], ' ', [0])\n",
      "(23, ' ', [63], ' ', [0], ' ', [0])\n",
      "(24, ' ', [64], ' ', [0], ' ', [0])\n",
      "(25, ' ', [69], ' ', [0], ' ', [0])\n",
      "(26, ' ', [71], ' ', [0], ' ', [0])\n",
      "(27, ' ', [78], ' ', [0], ' ', [0])\n",
      "(28, ' ', [79], ' ', [0], ' ', [0])\n",
      "(29, ' ', [88], ' ', [0], ' ', [0])\n",
      "(30, ' ', [97], ' ', [0], ' ', [0])\n",
      "(31, ' ', [107], ' ', [0], ' ', [0])\n",
      "(32, ' ', [110], ' ', [0], ' ', [0])\n",
      "(33, ' ', [120], ' ', [0], ' ', [0])\n",
      "(34, ' ', [129], ' ', [0], ' ', [0])\n",
      "(35, ' ', [138], ' ', [0], ' ', [0])\n",
      "(36, ' ', [141], ' ', [0], ' ', [0])\n",
      "(37, ' ', [149], ' ', [0], ' ', [0])\n",
      "(38, ' ', [155], ' ', [0], ' ', [0])\n",
      "(39, ' ', [162], ' ', [0], ' ', [0])\n",
      "(40, ' ', [174], ' ', [0], ' ', [0])\n",
      "(41, ' ', [186], ' ', [0], ' ', [0])\n",
      "(42, ' ', [194], ' ', [0], ' ', [0])\n",
      "(43, ' ', [207], ' ', [0], ' ', [0])\n",
      "(44, ' ', [219], ' ', [0], ' ', [0])\n",
      "(45, ' ', [228], ' ', [0], ' ', [0])\n",
      "(46, ' ', [240], ' ', [0], ' ', [0])\n",
      "(47, ' ', [253], ' ', [0], ' ', [0])\n",
      "(48, ' ', [264], ' ', [0], ' ', [0])\n",
      "(49, ' ', [276], ' ', [0], ' ', [0])\n",
      "(50, ' ', [289], ' ', [0], ' ', [0])\n",
      "(51, ' ', [305], ' ', [0], ' ', [0])\n",
      "(52, ' ', [326], ' ', [0], ' ', [0])\n",
      "(53, ' ', [340], ' ', [0], ' ', [0])\n",
      "(54, ' ', [351], ' ', [0], ' ', [0])\n",
      "(55, ' ', [369], ' ', [0], ' ', [0])\n",
      "(56, ' ', [386], ' ', [0], ' ', [0])\n",
      "(57, ' ', [409], ' ', [0], ' ', [0])\n",
      "(58, ' ', [430], ' ', [0], ' ', [0])\n",
      "(59, ' ', [446], ' ', [0], ' ', [0])\n",
      "(60, ' ', [466], ' ', [0], ' ', [0])\n",
      "(61, ' ', [490], ' ', [0], ' ', [0])\n",
      "(62, ' ', [508], ' ', [0], ' ', [0])\n",
      "(63, ' ', [527], ' ', [0], ' ', [0])\n",
      "(64, ' ', [540], ' ', [0], ' ', [0])\n",
      "(65, ' ', [556], ' ', [0], ' ', [0])\n",
      "(66, ' ', [573], ' ', [0], ' ', [0])\n",
      "(67, ' ', [594], ' ', [0], ' ', [0])\n",
      "(68, ' ', [613], ' ', [0], ' ', [0])\n",
      "(69, ' ', [624], ' ', [0], ' ', [0])\n",
      "(70, ' ', [640], ' ', [0], ' ', [0])\n",
      "(71, ' ', [661], ' ', [0], ' ', [0])\n",
      "(72, ' ', [673], ' ', [0], ' ', [0])\n",
      "(73, ' ', [683], ' ', [0], ' ', [0])\n",
      "(74, ' ', [699], ' ', [0], ' ', [0])\n",
      "(75, ' ', [710], ' ', [0], ' ', [0])\n",
      "(76, ' ', [722], ' ', [0], ' ', [0])\n",
      "(77, ' ', [732], ' ', [0], ' ', [0])\n",
      "(78, ' ', [741], ' ', [0], ' ', [0])\n",
      "(79, ' ', [749], ' ', [0], ' ', [0])\n",
      "(80, ' ', [758], ' ', [0], ' ', [0])\n",
      "(81, ' ', [772], ' ', [0], ' ', [0])\n",
      "(82, ' ', [780], ' ', [0], ' ', [0])\n",
      "(83, ' ', [789], ' ', [0], ' ', [0])\n",
      "(84, ' ', [796], ' ', [0], ' ', [0])\n",
      "(85, ' ', [807], ' ', [0], ' ', [0])\n",
      "(86, ' ', [810], ' ', [0], ' ', [0])\n",
      "(87, ' ', [813], ' ', [0], ' ', [0])\n",
      "(88, ' ', [829], ' ', [0], ' ', [0])\n",
      "(89, ' ', [833], ' ', [0], ' ', [0])\n",
      "(90, ' ', [835], ' ', [0], ' ', [0])\n",
      "(91, ' ', [838], ' ', [0], ' ', [0])\n",
      "(92, ' ', [847], ' ', [0], ' ', [0])\n",
      "(93, ' ', [850], ' ', [0], ' ', [0])\n",
      "(94, ' ', [855], ' ', [0], ' ', [0])\n",
      "(95, ' ', [863], ' ', [0], ' ', [0])\n",
      "(96, ' ', [866], ' ', [0], ' ', [0])\n",
      "(97, ' ', [871], ' ', [0], ' ', [0])\n",
      "(98, ' ', [874], ' ', [0], ' ', [0])\n",
      "(99, ' ', [876], ' ', [0], ' ', [0])\n",
      "(100, ' ', [880], ' ', [0], ' ', [0])\n",
      "(101, ' ', [880], ' ', [156], ' ', [0])\n",
      "(102, ' ', [880], ' ', [273], ' ', [0])\n",
      "(103, ' ', [880], ' ', [352], ' ', [0])\n",
      "(104, ' ', [880], ' ', [416], ' ', [0])\n",
      "(105, ' ', [880], ' ', [473], ' ', [0])\n",
      "(106, ' ', [880], ' ', [510], ' ', [0])\n",
      "(107, ' ', [880], ' ', [540], ' ', [0])\n",
      "(108, ' ', [880], ' ', [568], ' ', [0])\n",
      "(109, ' ', [880], ' ', [591], ' ', [0])\n",
      "(110, ' ', [880], ' ', [611], ' ', [0])\n",
      "(111, ' ', [880], ' ', [629], ' ', [0])\n",
      "(112, ' ', [880], ' ', [650], ' ', [0])\n",
      "(113, ' ', [880], ' ', [668], ' ', [0])\n",
      "(114, ' ', [880], ' ', [686], ' ', [0])\n",
      "(115, ' ', [880], ' ', [701], ' ', [0])\n",
      "(116, ' ', [880], ' ', [711], ' ', [0])\n",
      "(117, ' ', [880], ' ', [726], ' ', [0])\n",
      "(118, ' ', [880], ' ', [739], ' ', [0])\n",
      "(119, ' ', [880], ' ', [747], ' ', [0])\n",
      "(120, ' ', [880], ' ', [757], ' ', [0])\n",
      "(121, ' ', [880], ' ', [766], ' ', [0])\n",
      "(122, ' ', [880], ' ', [774], ' ', [0])\n",
      "(123, ' ', [880], ' ', [783], ' ', [0])\n",
      "(124, ' ', [880], ' ', [795], ' ', [0])\n",
      "(125, ' ', [880], ' ', [803], ' ', [0])\n",
      "(126, ' ', [880], ' ', [812], ' ', [0])\n",
      "(127, ' ', [880], ' ', [824], ' ', [0])\n",
      "(128, ' ', [880], ' ', [834], ' ', [0])\n",
      "(129, ' ', [880], ' ', [843], ' ', [0])\n",
      "(130, ' ', [880], ' ', [845], ' ', [0])\n",
      "(131, ' ', [880], ' ', [850], ' ', [0])\n",
      "(132, ' ', [880], ' ', [855], ' ', [0])\n",
      "(133, ' ', [880], ' ', [861], ' ', [0])\n",
      "(134, ' ', [880], ' ', [869], ' ', [0])\n",
      "(135, ' ', [880], ' ', [876], ' ', [0])\n",
      "(136, ' ', [880], ' ', [883], ' ', [0])\n",
      "(137, ' ', [880], ' ', [889], ' ', [0])\n",
      "(138, ' ', [880], ' ', [893], ' ', [0])\n",
      "(139, ' ', [880], ' ', [898], ' ', [0])\n",
      "(140, ' ', [880], ' ', [901], ' ', [0])\n",
      "(141, ' ', [880], ' ', [907], ' ', [0])\n",
      "(142, ' ', [880], ' ', [911], ' ', [0])\n",
      "(143, ' ', [880], ' ', [913], ' ', [0])\n",
      "(144, ' ', [880], ' ', [916], ' ', [0])\n",
      "(145, ' ', [880], ' ', [921], ' ', [0])\n",
      "(146, ' ', [880], ' ', [927], ' ', [0])\n",
      "(147, ' ', [880], ' ', [935], ' ', [0])\n",
      "(148, ' ', [880], ' ', [937], ' ', [0])\n",
      "(149, ' ', [880], ' ', [939], ' ', [0])\n",
      "(150, ' ', [880], ' ', [942], ' ', [0])\n",
      "(151, ' ', [880], ' ', [943], ' ', [0])\n",
      "(152, ' ', [880], ' ', [946], ' ', [0])\n",
      "(153, ' ', [880], ' ', [951], ' ', [0])\n",
      "(154, ' ', [880], ' ', [951], ' ', [0])\n",
      "(155, ' ', [880], ' ', [954], ' ', [0])\n",
      "(156, ' ', [880], ' ', [957], ' ', [0])\n",
      "(157, ' ', [880], ' ', [960], ' ', [0])\n",
      "(158, ' ', [880], ' ', [962], ' ', [0])\n",
      "(159, ' ', [880], ' ', [967], ' ', [0])\n",
      "(160, ' ', [880], ' ', [972], ' ', [0])\n",
      "(161, ' ', [880], ' ', [974], ' ', [0])\n",
      "(162, ' ', [880], ' ', [976], ' ', [0])\n",
      "(163, ' ', [880], ' ', [978], ' ', [0])\n",
      "(164, ' ', [880], ' ', [979], ' ', [0])\n",
      "(165, ' ', [880], ' ', [982], ' ', [0])\n",
      "(166, ' ', [880], ' ', [982], ' ', [0])\n",
      "(167, ' ', [880], ' ', [984], ' ', [0])\n",
      "(168, ' ', [880], ' ', [987], ' ', [0])\n",
      "(169, ' ', [880], ' ', [988], ' ', [0])\n",
      "(170, ' ', [880], ' ', [990], ' ', [0])\n",
      "(171, ' ', [880], ' ', [992], ' ', [0])\n",
      "(172, ' ', [880], ' ', [993], ' ', [0])\n",
      "(173, ' ', [880], ' ', [993], ' ', [0])\n",
      "(174, ' ', [880], ' ', [995], ' ', [0])\n",
      "(175, ' ', [880], ' ', [996], ' ', [0])\n",
      "(176, ' ', [880], ' ', [999], ' ', [0])\n",
      "(177, ' ', [880], ' ', [1000], ' ', [0])\n",
      "(178, ' ', [880], ' ', [1005], ' ', [0])\n",
      "(179, ' ', [880], ' ', [1007], ' ', [0])\n",
      "(180, ' ', [880], ' ', [1007], ' ', [0])\n",
      "(181, ' ', [880], ' ', [1009], ' ', [0])\n",
      "(182, ' ', [880], ' ', [1009], ' ', [0])\n",
      "(183, ' ', [880], ' ', [1011], ' ', [0])\n",
      "(184, ' ', [880], ' ', [1011], ' ', [0])\n",
      "(185, ' ', [880], ' ', [1013], ' ', [0])\n",
      "(186, ' ', [880], ' ', [1013], ' ', [0])\n",
      "(187, ' ', [880], ' ', [1015], ' ', [0])\n",
      "(188, ' ', [880], ' ', [1016], ' ', [0])\n",
      "(189, ' ', [880], ' ', [1017], ' ', [0])\n",
      "(190, ' ', [880], ' ', [1018], ' ', [0])\n",
      "(191, ' ', [880], ' ', [1019], ' ', [0])\n",
      "(192, ' ', [880], ' ', [1025], ' ', [0])\n",
      "(193, ' ', [880], ' ', [1029], ' ', [0])\n",
      "(194, ' ', [880], ' ', [1033], ' ', [0])\n",
      "(195, ' ', [880], ' ', [1036], ' ', [0])\n",
      "(196, ' ', [880], ' ', [1038], ' ', [0])\n",
      "(197, ' ', [880], ' ', [1041], ' ', [0])\n",
      "(198, ' ', [880], ' ', [1042], ' ', [0])\n",
      "(199, ' ', [880], ' ', [1043], ' ', [0])\n",
      "(200, ' ', [880], ' ', [1043], ' ', [0])\n",
      "(201, ' ', [880], ' ', [1043], ' ', [212])\n",
      "(202, ' ', [880], ' ', [1043], ' ', [331])\n",
      "(203, ' ', [880], ' ', [1043], ' ', [402])\n",
      "(204, ' ', [880], ' ', [1043], ' ', [466])\n",
      "(205, ' ', [880], ' ', [1043], ' ', [512])\n",
      "(206, ' ', [880], ' ', [1043], ' ', [546])\n",
      "(207, ' ', [880], ' ', [1043], ' ', [570])\n",
      "(208, ' ', [880], ' ', [1043], ' ', [606])\n",
      "(209, ' ', [880], ' ', [1043], ' ', [628])\n",
      "(210, ' ', [880], ' ', [1043], ' ', [641])\n",
      "(211, ' ', [880], ' ', [1043], ' ', [658])\n",
      "(212, ' ', [880], ' ', [1043], ' ', [677])\n",
      "(213, ' ', [880], ' ', [1043], ' ', [694])\n",
      "(214, ' ', [880], ' ', [1043], ' ', [702])\n",
      "(215, ' ', [880], ' ', [1043], ' ', [708])\n",
      "(216, ' ', [880], ' ', [1043], ' ', [719])\n",
      "(217, ' ', [880], ' ', [1043], ' ', [724])\n",
      "(218, ' ', [880], ' ', [1043], ' ', [735])\n",
      "(219, ' ', [880], ' ', [1043], ' ', [741])\n",
      "(220, ' ', [880], ' ', [1043], ' ', [747])\n",
      "(221, ' ', [880], ' ', [1043], ' ', [752])\n",
      "(222, ' ', [880], ' ', [1043], ' ', [754])\n",
      "(223, ' ', [880], ' ', [1043], ' ', [757])\n",
      "(224, ' ', [880], ' ', [1043], ' ', [761])\n"
     ]
    },
    {
     "ename": "KeyboardInterrupt",
     "evalue": "",
     "output_type": "error",
     "traceback": [
      "\u001b[0;31m---------------------------------------------------------------------------\u001b[0m",
      "\u001b[0;31mKeyboardInterrupt\u001b[0m                         Traceback (most recent call last)",
      "\u001b[0;32m<ipython-input-13-1fab5fb14bcd>\u001b[0m in \u001b[0;36m<module>\u001b[0;34m()\u001b[0m\n\u001b[1;32m     45\u001b[0m                 \u001b[0mdy\u001b[0m \u001b[0;34m=\u001b[0m \u001b[0mint\u001b[0m\u001b[0;34m(\u001b[0m\u001b[0mmid_y\u001b[0m \u001b[0;34m-\u001b[0m \u001b[0my\u001b[0m\u001b[0;34m)\u001b[0m\u001b[0;34m\u001b[0m\u001b[0m\n\u001b[1;32m     46\u001b[0m                 \u001b[0mx_roll\u001b[0m \u001b[0;34m=\u001b[0m \u001b[0mxx\u001b[0m \u001b[0;34m-\u001b[0m \u001b[0mdx\u001b[0m\u001b[0;34m\u001b[0m\u001b[0m\n\u001b[0;32m---> 47\u001b[0;31m                 \u001b[0mx_mod\u001b[0m \u001b[0;34m=\u001b[0m \u001b[0mnp\u001b[0m\u001b[0;34m.\u001b[0m\u001b[0mmod\u001b[0m\u001b[0;34m(\u001b[0m\u001b[0mx_roll\u001b[0m\u001b[0;34m,\u001b[0m \u001b[0mw\u001b[0m\u001b[0;34m)\u001b[0m\u001b[0;34m\u001b[0m\u001b[0m\n\u001b[0m\u001b[1;32m     48\u001b[0m \u001b[0;34m\u001b[0m\u001b[0m\n\u001b[1;32m     49\u001b[0m                 \u001b[0my_roll\u001b[0m \u001b[0;34m=\u001b[0m \u001b[0myy\u001b[0m \u001b[0;34m-\u001b[0m \u001b[0mdy\u001b[0m\u001b[0;34m\u001b[0m\u001b[0m\n",
      "\u001b[0;31mKeyboardInterrupt\u001b[0m: "
     ]
    }
   ],
   "source": [
    "def check_for_append(num_vec, candidate, cand_move, x, y, tol=200.):\n",
    "    append = True\n",
    "    num = num_vec[0]\n",
    "    if num > 0:\n",
    "        booleans = np.sqrt(np.sum(x[:num, :] - candidate, 1) ** 2)\n",
    "        if any(booleans < tol):\n",
    "            append = False\n",
    "    if append:\n",
    "        y[num] = cand_move\n",
    "        x[num, :] = full_stack\n",
    "        num_vec[0] += 1\n",
    "\n",
    "mid_x = int(ids.shape[1] / 2.) \n",
    "mid_y = int(ids.shape[0] / 2.)\n",
    "\n",
    "\n",
    "s_x = _x + mid_x\n",
    "s_y = _y + mid_y\n",
    "\n",
    "all_vals = []\n",
    "all_moves = []\n",
    "\n",
    "pre_game = np.zeros((60000, 363))\n",
    "mid_game = np.zeros((60000, 363))\n",
    "post_game = np.zeros((60000, 363))\n",
    "\n",
    "pre_game_move = np.zeros(60000)\n",
    "mid_game_move = np.zeros(60000)\n",
    "post_game_move = np.zeros(60000)\n",
    "\n",
    "pre_num = [0]\n",
    "mid_num = [0]\n",
    "post_num = [0]\n",
    "\n",
    "for frame_id, (frame, move) in enumerate(zip(frames, moves)):\n",
    "    print(frame_id, \" \", pre_num,\" \", mid_num,\" \", post_num)\n",
    "    ids = np.array(map(lambda x: map(lambda y: y[0], x), frame))\n",
    "    power = np.array(map(lambda x: map(lambda y: y[1], x), frame))\n",
    "    for row_y, row_x in zip(yy, xx):\n",
    "        for y, x in zip(row_y, row_x):\n",
    "            curr_id = ids[y, x]\n",
    "            if curr_id == _id:\n",
    "\n",
    "                dx = int(mid_x - x)\n",
    "                dy = int(mid_y - y)\n",
    "                x_roll = xx - dx\n",
    "                x_mod = np.mod(x_roll, w)\n",
    "\n",
    "                y_roll = yy - dy\n",
    "                y_mod = np.mod(y_roll, h)\n",
    "                id_roll =      ids[y_mod, x_mod]\n",
    "                power_roll = power[y_mod, x_mod]\n",
    "                prod_roll =  prods[y_mod, x_mod]\n",
    "\n",
    "                id_smaller    = np.concatenate(   id_roll[s_y, s_x])\n",
    "                power_smaller = np.concatenate(power_roll[s_y, s_x])\n",
    "                prod_smaller  = np.concatenate( prod_roll[s_y, s_x])\n",
    "\n",
    "                my_ids = id_smaller == _id\n",
    "                id_smaller[np.logical_and(id_smaller > 0, id_smaller != _id)] = 2.\n",
    "                id_smaller[my_ids] = 1\n",
    "                id_smaller = id_smaller / 2.\n",
    "                tmp_stack = np.hstack([id_smaller, power_smaller])\n",
    "                full_stack = np.hstack([tmp_stack, prod_smaller])\n",
    "                cand_move = move[y, x]\n",
    "                if frame_id < 100:\n",
    "                    check_for_append(pre_num, full_stack, cand_move, pre_game, pre_game_move, tol=5.)\n",
    "                elif frame_id < 200:\n",
    "                    check_for_append(mid_num, full_stack, cand_move, mid_game, mid_game_move, tol=5.)\n",
    "                else:\n",
    "                    check_for_append(post_num, full_stack, cand_move, post_game, post_game_move, tol=5.)\n"
   ]
  },
  {
   "cell_type": "code",
   "execution_count": 47,
   "metadata": {
    "collapsed": false
   },
   "outputs": [
    {
     "ename": "ValueError",
     "evalue": "all the input array dimensions except for the concatenation axis must match exactly",
     "output_type": "error",
     "traceback": [
      "\u001b[0;31m---------------------------------------------------------------------------\u001b[0m",
      "\u001b[0;31mValueError\u001b[0m                                Traceback (most recent call last)",
      "\u001b[0;32m<ipython-input-47-0563490bdb9f>\u001b[0m in \u001b[0;36m<module>\u001b[0;34m()\u001b[0m\n\u001b[1;32m     14\u001b[0m \u001b[0;34m\u001b[0m\u001b[0m\n\u001b[1;32m     15\u001b[0m \u001b[0mall_vals\u001b[0m \u001b[0;34m=\u001b[0m \u001b[0mreduce\u001b[0m\u001b[0;34m(\u001b[0m\u001b[0mmyred\u001b[0m\u001b[0;34m,\u001b[0m \u001b[0mall_\u001b[0m\u001b[0;34m)\u001b[0m\u001b[0;34m\u001b[0m\u001b[0m\n\u001b[0;32m---> 16\u001b[0;31m \u001b[0mvec_all_moves\u001b[0m \u001b[0;34m=\u001b[0m \u001b[0mreduce\u001b[0m\u001b[0;34m(\u001b[0m\u001b[0mmyred\u001b[0m\u001b[0;34m,\u001b[0m \u001b[0mall_moves\u001b[0m\u001b[0;34m)\u001b[0m\u001b[0;34m\u001b[0m\u001b[0m\n\u001b[0m",
      "\u001b[0;32m<ipython-input-47-0563490bdb9f>\u001b[0m in \u001b[0;36mmyred\u001b[0;34m(x, y)\u001b[0m\n\u001b[1;32m     11\u001b[0m \u001b[0;34m\u001b[0m\u001b[0m\n\u001b[1;32m     12\u001b[0m \u001b[0;32mdef\u001b[0m \u001b[0mmyred\u001b[0m\u001b[0;34m(\u001b[0m\u001b[0mx\u001b[0m\u001b[0;34m,\u001b[0m \u001b[0my\u001b[0m\u001b[0;34m)\u001b[0m\u001b[0;34m:\u001b[0m\u001b[0;34m\u001b[0m\u001b[0m\n\u001b[0;32m---> 13\u001b[0;31m     \u001b[0;32mreturn\u001b[0m \u001b[0mnp\u001b[0m\u001b[0;34m.\u001b[0m\u001b[0mvstack\u001b[0m\u001b[0;34m(\u001b[0m\u001b[0;34m[\u001b[0m\u001b[0mx\u001b[0m\u001b[0;34m,\u001b[0m \u001b[0my\u001b[0m\u001b[0;34m]\u001b[0m\u001b[0;34m)\u001b[0m\u001b[0;34m\u001b[0m\u001b[0m\n\u001b[0m\u001b[1;32m     14\u001b[0m \u001b[0;34m\u001b[0m\u001b[0m\n\u001b[1;32m     15\u001b[0m \u001b[0mall_vals\u001b[0m \u001b[0;34m=\u001b[0m \u001b[0mreduce\u001b[0m\u001b[0;34m(\u001b[0m\u001b[0mmyred\u001b[0m\u001b[0;34m,\u001b[0m \u001b[0mall_\u001b[0m\u001b[0;34m)\u001b[0m\u001b[0;34m\u001b[0m\u001b[0m\n",
      "\u001b[0;32m/home/olli/anaconda2/lib/python2.7/site-packages/numpy/core/shape_base.pyc\u001b[0m in \u001b[0;36mvstack\u001b[0;34m(tup)\u001b[0m\n\u001b[1;32m    228\u001b[0m \u001b[0;34m\u001b[0m\u001b[0m\n\u001b[1;32m    229\u001b[0m     \"\"\"\n\u001b[0;32m--> 230\u001b[0;31m     \u001b[0;32mreturn\u001b[0m \u001b[0m_nx\u001b[0m\u001b[0;34m.\u001b[0m\u001b[0mconcatenate\u001b[0m\u001b[0;34m(\u001b[0m\u001b[0;34m[\u001b[0m\u001b[0matleast_2d\u001b[0m\u001b[0;34m(\u001b[0m\u001b[0m_m\u001b[0m\u001b[0;34m)\u001b[0m \u001b[0;32mfor\u001b[0m \u001b[0m_m\u001b[0m \u001b[0;32min\u001b[0m \u001b[0mtup\u001b[0m\u001b[0;34m]\u001b[0m\u001b[0;34m,\u001b[0m \u001b[0;36m0\u001b[0m\u001b[0;34m)\u001b[0m\u001b[0;34m\u001b[0m\u001b[0m\n\u001b[0m\u001b[1;32m    231\u001b[0m \u001b[0;34m\u001b[0m\u001b[0m\n\u001b[1;32m    232\u001b[0m \u001b[0;32mdef\u001b[0m \u001b[0mhstack\u001b[0m\u001b[0;34m(\u001b[0m\u001b[0mtup\u001b[0m\u001b[0;34m)\u001b[0m\u001b[0;34m:\u001b[0m\u001b[0;34m\u001b[0m\u001b[0m\n",
      "\u001b[0;31mValueError\u001b[0m: all the input array dimensions except for the concatenation axis must match exactly"
     ]
    }
   ],
   "source": [
    "import h5py\n",
    "import numpy as np\n",
    "\n",
    "h5f = h5py.File('data_pre.h5','r')\n",
    "\n",
    "all_ = [np.array(h5f[\"datasetpre_{0}\".format(x)]) for x in range(176/2)]\n",
    "all_moves = [np.array(h5f[\"datasetpremove_{0}\".format(x)]) for x in range(176/2)]\n",
    "\n",
    "\n",
    "from functools import reduce\n",
    "\n",
    "def myred(x, y):\n",
    "    return np.vstack([x, y])\n",
    "\n",
    "all_vals = reduce(myred, all_)\n"
   ]
  },
  {
   "cell_type": "code",
   "execution_count": 51,
   "metadata": {
    "collapsed": false
   },
   "outputs": [
    {
     "data": {
      "text/plain": [
       "39510"
      ]
     },
     "execution_count": 51,
     "metadata": {},
     "output_type": "execute_result"
    }
   ],
   "source": [
    "len(np.concatenate(all_moves))"
   ]
  },
  {
   "cell_type": "code",
   "execution_count": 52,
   "metadata": {
    "collapsed": false
   },
   "outputs": [
    {
     "data": {
      "text/plain": [
       "(39510, 363)"
      ]
     },
     "execution_count": 52,
     "metadata": {},
     "output_type": "execute_result"
    }
   ],
   "source": [
    "all_vals.shape"
   ]
  },
  {
   "cell_type": "code",
   "execution_count": 31,
   "metadata": {
    "collapsed": false
   },
   "outputs": [
    {
     "data": {
      "text/plain": [
       "(573, 363)"
      ]
     },
     "execution_count": 31,
     "metadata": {},
     "output_type": "execute_result"
    }
   ],
   "source": [
    "np.vstack([a, b]).shape"
   ]
  },
  {
   "cell_type": "code",
   "execution_count": null,
   "metadata": {
    "collapsed": true
   },
   "outputs": [],
   "source": []
  }
 ],
 "metadata": {
  "anaconda-cloud": {},
  "kernelspec": {
   "display_name": "Python [default]",
   "language": "python",
   "name": "python2"
  },
  "language_info": {
   "codemirror_mode": {
    "name": "ipython",
    "version": 2
   },
   "file_extension": ".py",
   "mimetype": "text/x-python",
   "name": "python",
   "nbconvert_exporter": "python",
   "pygments_lexer": "ipython2",
   "version": "2.7.12"
  }
 },
 "nbformat": 4,
 "nbformat_minor": 1
}
